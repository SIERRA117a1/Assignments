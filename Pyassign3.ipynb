{
 "cells": [
  {
   "cell_type": "code",
   "execution_count": 1,
   "metadata": {},
   "outputs": [
    {
     "data": {
      "text/plain": [
       "214.2428528562855"
      ]
     },
     "execution_count": 1,
     "metadata": {},
     "output_type": "execute_result"
    }
   ],
   "source": [
    "#Q1\n",
    "\n",
    "class Parents_Class:\n",
    "    def __init__(self,a,b,c):\n",
    "        self.a = a\n",
    "        self.b = b\n",
    "        self.c = c\n",
    "    def child(self):\n",
    "        x = (self.a + self.b + self.c) / 2\n",
    "        area = (x*(x-self.a)*(x-self.b)*(x-self.c))**0.5\n",
    "        return area\n",
    "    \n",
    "t1 = Parents_Class(19,24,25)\n",
    "t1.child()"
   ]
  },
  {
   "cell_type": "code",
   "execution_count": 3,
   "metadata": {},
   "outputs": [
    {
     "data": {
      "text/plain": [
       "['super', 'machinelearning', 'great', 'alexander']"
      ]
     },
     "execution_count": 3,
     "metadata": {},
     "output_type": "execute_result"
    }
   ],
   "source": [
    "#Q1.2\n",
    "\n",
    "def filter(word_list , n):\n",
    "    filtered_list = []\n",
    "    for i in word_list[:]:\n",
    "        if len(i)>n :\n",
    "            filtered_list.append(i)\n",
    "            \n",
    "    return filtered_list\n",
    "\n",
    "no = 4\n",
    "words = ['kids' , 'super' , 'machinelearning' , 'fast' ,'AI' , 'great' , 'alexander']\n",
    "filter(words , no)"
   ]
  },
  {
   "cell_type": "code",
   "execution_count": 4,
   "metadata": {},
   "outputs": [
    {
     "name": "stdout",
     "output_type": "stream",
     "text": [
      "[4, 5, 15, 4, 2, 5, 9]\n"
     ]
    }
   ],
   "source": [
    "#Q2.1\n",
    "\n",
    "def length(word):\n",
    "    return len(word)\n",
    "\n",
    "words = ('kids' , 'super' , 'machinelearning' , 'fast' ,'AI' , 'great' , 'alexander')\n",
    "len_list = map(length , words)\n",
    "print(list(len_list))"
   ]
  },
  {
   "cell_type": "code",
   "execution_count": 5,
   "metadata": {},
   "outputs": [
    {
     "data": {
      "text/plain": [
       "(False, False, True, False)"
      ]
     },
     "execution_count": 5,
     "metadata": {},
     "output_type": "execute_result"
    }
   ],
   "source": [
    "#Q2.2\n",
    "\n",
    "def vowel_check(x):\n",
    "    vowel = ['a' , 'e' ,'i' ,'o','u']\n",
    "    if x in vowel:\n",
    "        return True\n",
    "    return False\n",
    "    \n",
    "vowel_check('z') , vowel_check('t') , vowel_check('e') , vowel_check('w')"
   ]
  },
  {
   "cell_type": "code",
   "execution_count": null,
   "metadata": {},
   "outputs": [],
   "source": []
  }
 ],
 "metadata": {
  "kernelspec": {
   "display_name": "base",
   "language": "python",
   "name": "python3"
  },
  "language_info": {
   "codemirror_mode": {
    "name": "ipython",
    "version": 3
   },
   "file_extension": ".py",
   "mimetype": "text/x-python",
   "name": "python",
   "nbconvert_exporter": "python",
   "pygments_lexer": "ipython3",
   "version": "3.9.13 (main, Aug 25 2022, 23:51:50) [MSC v.1916 64 bit (AMD64)]"
  },
  "orig_nbformat": 4,
  "vscode": {
   "interpreter": {
    "hash": "57bc2b6ce032b5f0e93daa91901b7ea38a856826ef43aa9e95b6d3999f5310df"
   }
  }
 },
 "nbformat": 4,
 "nbformat_minor": 2
}
