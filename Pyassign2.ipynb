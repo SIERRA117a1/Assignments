{
 "cells": [
  {
   "cell_type": "code",
   "execution_count": null,
   "metadata": {},
   "outputs": [],
   "source": [
    "n=5\n",
    "z = n-1\n",
    "\n",
    "\n",
    "for i in range(n):\n",
    "    \n",
    "    for j in range(0,i+1):\n",
    "        \n",
    "        print(\"* \",end=\"\")\n",
    "    \n",
    "   \n",
    "\n",
    "    print('\\r')\n",
    "\n",
    "for i in range(z):\n",
    "\n",
    "    for k in range(z-i):\n",
    "\n",
    "        print(\"* \",end=\"\")\n",
    "\n",
    "    print('\\r')\n",
    "\n",
    "\n",
    "\n",
    "     \n",
    "\n",
    "   \n",
    "    \n",
    "\n",
    "\n",
    "    "
   ]
  },
  {
   "cell_type": "code",
   "execution_count": null,
   "metadata": {},
   "outputs": [],
   "source": [
    "a = input(\"Enter a Word to Reverse\")\n",
    "\n",
    "z = len(a)\n",
    "n = z-1\n",
    "\n",
    "for i in range(z):\n",
    "    print(a[n-i], end=\"\")\n",
    "\n",
    "\n",
    "\n"
   ]
  },
  {
   "cell_type": "code",
   "execution_count": null,
   "metadata": {},
   "outputs": [],
   "source": []
  }
 ],
 "metadata": {
  "kernelspec": {
   "display_name": "Python 3.9.12 ('base')",
   "language": "python",
   "name": "python3"
  },
  "language_info": {
   "codemirror_mode": {
    "name": "ipython",
    "version": 3
   },
   "file_extension": ".py",
   "mimetype": "text/x-python",
   "name": "python",
   "nbconvert_exporter": "python",
   "pygments_lexer": "ipython3",
   "version": "3.9.12"
  },
  "orig_nbformat": 4,
  "vscode": {
   "interpreter": {
    "hash": "57bc2b6ce032b5f0e93daa91901b7ea38a856826ef43aa9e95b6d3999f5310df"
   }
  }
 },
 "nbformat": 4,
 "nbformat_minor": 2
}
